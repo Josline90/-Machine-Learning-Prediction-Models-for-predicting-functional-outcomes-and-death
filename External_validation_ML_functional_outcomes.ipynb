{
 "cells": [
  {
   "cell_type": "markdown",
   "id": "cf7e5150",
   "metadata": {},
   "source": [
    "### Load the library"
   ]
  },
  {
   "cell_type": "code",
   "execution_count": null,
   "id": "91ef0995",
   "metadata": {},
   "outputs": [],
   "source": [
    "import pickle"
   ]
  },
  {
   "cell_type": "markdown",
   "id": "492c4936",
   "metadata": {},
   "source": [
    "### Load the models trained on Riksstroke data set"
   ]
  },
  {
   "cell_type": "code",
   "execution_count": null,
   "id": "905ca90b",
   "metadata": {},
   "outputs": [],
   "source": [
    "# Main effects logistic regression model\n",
    "filename_lr = 'LR_model.pkl' \n",
    "clf_lr = pickle.load(open(filename_lr, 'rb'))"
   ]
  },
  {
   "cell_type": "code",
   "execution_count": null,
   "id": "9b333201",
   "metadata": {},
   "outputs": [],
   "source": [
    "# LR with 2-way interaction terms\n",
    "filename_lr_inter = 'LR_model_interaction.pkl' \n",
    "clf_lr_interaction_terms = pickle.load(open(filename_lr_inter, 'rb'))"
   ]
  },
  {
   "cell_type": "code",
   "execution_count": null,
   "id": "938e0714",
   "metadata": {},
   "outputs": [],
   "source": [
    "# Artificial neural network\n",
    "filename_ann = 'clf_ann_model.pkl' #clf_nn_final_model_2HL.pkl\n",
    "clf_ann = pickle.load(open(filename_ann, 'rb'))"
   ]
  },
  {
   "cell_type": "code",
   "execution_count": null,
   "id": "78c54c75",
   "metadata": {},
   "outputs": [],
   "source": [
    "# XGBoost \n",
    "filename_xgb = 'clf_xgb_model.pkl' #clf_xgb_final_model2.pkl\n",
    "clf_xgb = pickle.load(open(filename_xgb, 'rb'))"
   ]
  },
  {
   "cell_type": "code",
   "execution_count": null,
   "id": "839e47cc",
   "metadata": {},
   "outputs": [],
   "source": [
    "# Support vector machine\n",
    "filename_svm = 'clf_svm_model.pkl' #clf_svm_model2.pkl\n",
    "clf_svm = pickle.load(open(filename_svm, 'rb'))"
   ]
  },
  {
   "cell_type": "markdown",
   "id": "c31171a6",
   "metadata": {},
   "source": [
    "After data preprocessing (check README.md file), split the outcome (say Y_test) from the set of features (e.g X_test), you can obtain the outcome predictions as follows.\n"
   ]
  },
  {
   "cell_type": "code",
   "execution_count": null,
   "id": "d8746805",
   "metadata": {},
   "outputs": [],
   "source": [
    "clf_lr_pred = clf_lr.predict(X_test)\n",
    "clf_lr_interaction_terms_pred = clf_lr_interaction_terms.predict(X_test)\n",
    "clf_ann_pred = clf_ann.predict(X_test_scaled) # scale the feature values\n",
    "clf_xgb_pred = clf_xgb.predict(X_test)\n",
    "clf_svm_pred = clf_svm.predict(X_test_scaled)"
   ]
  },
  {
   "cell_type": "markdown",
   "id": "b30c14c9",
   "metadata": {},
   "source": [
    "Using the predictions and the observed outcome values (Y_test), you can calculate the prediction performances, and also obtain contribution of each feature in the model (e.g SHAP values). The metrics include accuracy scores, Matthews correlation coefficient, Cohen's Kappa correlation coefficient, and F1 scores."
   ]
  },
  {
   "cell_type": "code",
   "execution_count": null,
   "id": "5bcacd94",
   "metadata": {},
   "outputs": [],
   "source": [
    "# For example\n",
    "accuracy_score(Y_test, clf_xgb_pred)"
   ]
  }
 ],
 "metadata": {
  "kernelspec": {
   "display_name": "Python 3 (ipykernel)",
   "language": "python",
   "name": "python3"
  },
  "language_info": {
   "codemirror_mode": {
    "name": "ipython",
    "version": 3
   },
   "file_extension": ".py",
   "mimetype": "text/x-python",
   "name": "python",
   "nbconvert_exporter": "python",
   "pygments_lexer": "ipython3",
   "version": "3.7.13"
  }
 },
 "nbformat": 4,
 "nbformat_minor": 5
}
